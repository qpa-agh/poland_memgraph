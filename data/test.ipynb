{
 "cells": [
  {
   "cell_type": "code",
   "execution_count": 1,
   "metadata": {},
   "outputs": [],
   "source": [
    "import geopandas as gpd\n",
    "import numpy as np \n",
    "import matplotlib.pyplot as plt\n",
    "import pandas as pd\n",
    "from shapely import wkt, MultiLineString"
   ]
  },
  {
   "cell_type": "code",
   "execution_count": 7,
   "metadata": {},
   "outputs": [
    {
     "name": "stdout",
     "output_type": "stream",
     "text": [
      "LINESTRING (0 0, 1 2)\n",
      "LINESTRING (4 4, 5 6)\n"
     ]
    }
   ],
   "source": [
    "mulitline = MultiLineString([[[0, 0], [1, 2]], [[4, 4], [5, 6]]])\n",
    "for line in mulitline.geoms:\n",
    "    print(line)"
   ]
  },
  {
   "cell_type": "code",
   "execution_count": 7,
   "metadata": {},
   "outputs": [
    {
     "data": {
      "text/plain": [
       "10541"
      ]
     },
     "execution_count": 7,
     "metadata": {},
     "output_type": "execute_result"
    }
   ],
   "source": [
    "df = pd.read_csv('buidlings_distance.csv', low_memory=False)\n",
    "df['id1'].unique().size"
   ]
  },
  {
   "cell_type": "code",
   "execution_count": 4,
   "metadata": {},
   "outputs": [
    {
     "name": "stdout",
     "output_type": "stream",
     "text": [
      "POINT (0.5 0.5)\n",
      "The lines cross at an angle of 111.80 degrees.\n"
     ]
    }
   ],
   "source": [
    "from shapely.geometry import LineString\n",
    "import math\n",
    "\n",
    "def calculate_angle(line1, line2):\n",
    "    \"\"\"\n",
    "    Determines if two LineStrings cross and calculates the angle of intersection if they do.\n",
    "\n",
    "    Args:\n",
    "        line1 (LineString): The first LineString.\n",
    "        line2 (LineString): The second LineString.\n",
    "\n",
    "    Returns:\n",
    "        tuple: (crosses (bool), angle (float or None))\n",
    "               `crosses` indicates if the lines cross.\n",
    "               `angle` is the angle in degrees if the lines cross, otherwise None.\n",
    "    \"\"\"\n",
    "    if not line1.crosses(line2):\n",
    "        return False, None\n",
    "\n",
    "    # Get the intersection point\n",
    "    intersection = line1.intersection(line2)\n",
    "    print(intersection)\n",
    "\n",
    "    if intersection.is_empty:\n",
    "        return False, None\n",
    "\n",
    "    # Extract the coordinates of the lines\n",
    "    x1, y1, x2, y2 = *line1.coords[0], *line1.coords[-1]\n",
    "    x3, y3, x4, y4 = *line2.coords[0], *line2.coords[-1]\n",
    "\n",
    "    # Calculate direction vectors for the two lines\n",
    "    vector1 = (x2 - x1, y2 - y1)\n",
    "    vector2 = (x4 - x3, y4 - y3)\n",
    "\n",
    "    # Calculate the dot product and magnitudes of the vectors\n",
    "    dot_product = vector1[0] * vector2[0] + vector1[1] * vector2[1]\n",
    "    magnitude1 = math.sqrt(vector1[0]**2 + vector1[1]**2)\n",
    "    magnitude2 = math.sqrt(vector2[0]**2 + vector2[1]**2)\n",
    "\n",
    "    # Calculate the cosine of the angle\n",
    "    cos_theta = dot_product / (magnitude1 * magnitude2)\n",
    "\n",
    "    # Avoid floating-point precision errors\n",
    "    cos_theta = min(1, max(-1, cos_theta))\n",
    "\n",
    "    # Calculate the angle in radians and then convert to degrees\n",
    "    angle = math.acos(cos_theta) * (180 / math.pi)\n",
    "\n",
    "    return True, angle\n",
    "\n",
    "# Example usage\n",
    "    # Define two LineStrings\n",
    "line1 = LineString([(0, 0), (1, 1), (2,5), (3, 7)])\n",
    "line2 = LineString([(0, 1), (1, 0)])\n",
    "\n",
    "# Check if they cross and calculate the angle\n",
    "crosses, angle = calculate_angle(line1, line2)\n",
    "\n",
    "if crosses:\n",
    "    print(f\"The lines cross at an angle of {angle:.2f} degrees.\")\n",
    "else:\n",
    "    print(\"The lines do not cross.\")"
   ]
  }
 ],
 "metadata": {
  "kernelspec": {
   "display_name": "Python 3",
   "language": "python",
   "name": "python3"
  },
  "language_info": {
   "codemirror_mode": {
    "name": "ipython",
    "version": 3
   },
   "file_extension": ".py",
   "mimetype": "text/x-python",
   "name": "python",
   "nbconvert_exporter": "python",
   "pygments_lexer": "ipython3",
   "version": "3.10.12"
  }
 },
 "nbformat": 4,
 "nbformat_minor": 2
}
